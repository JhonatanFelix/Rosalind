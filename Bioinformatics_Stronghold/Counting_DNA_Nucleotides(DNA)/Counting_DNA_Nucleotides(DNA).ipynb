{
 "cells": [
  {
   "cell_type": "markdown",
   "metadata": {},
   "source": [
    "### Problem\n",
    "A **string** is simply an ordered collection of symbols selected from some **alphabet** and formed into a word; the **length** of a string is the number of symbols that it contains.\n",
    "\n",
    "An example of a length 21 **DNA string** (whose alphabet contains the symbols 'A', 'C', 'G', and 'T') is \"ATGCTTCAGAAAGGTCTTACG.\"\n",
    "\n",
    "_Given_: A DNA string s\n",
    " of length at most 1000 nt.\n",
    "\n",
    "_Return_: Four integers (separated by spaces) counting the respective number of times that the symbols 'A', 'C', 'G', and 'T' occur in s.\n",
    "\n",
    "### Sample Dataset\n",
    "\n",
    "AGCTTTTCATTCTGACTGCAACGGGCAATATGTCTCTGTGTGGATTAAAAAAAGAGTGTCTGATAGCAGC\n",
    "\n",
    "### Sample Output\n",
    "\n",
    "20 12 17 21"
   ]
  },
  {
   "cell_type": "code",
   "execution_count": 6,
   "metadata": {},
   "outputs": [
    {
     "name": "stdout",
     "output_type": "stream",
     "text": [
      "20 12 17 21 \n"
     ]
    }
   ],
   "source": [
    "# Opening the file and extracting the data\n",
    "with open('rosalind_dna.txt') as file:\n",
    "    dna = file.readlines()[0]\n",
    "\n",
    "# We have to count all the nucleotides, A,T,C and G.\n",
    "def counting_nucleotides(sample):\n",
    "    amount_A = sample.count(\"A\")\n",
    "    amount_C = sample.count(\"C\")\n",
    "    amount_G = sample.count(\"G\")\n",
    "    amount_T = sample.count(\"T\")\n",
    "    return print(f\"{amount_A} {amount_C} {amount_G} {amount_T} \")\n",
    "\n",
    "# Testing the sample dataset\n",
    "counting_nucleotides(\"AGCTTTTCATTCTGACTGCAACGGGCAATATGTCTCTGTGTGGATTAAAAAAAGAGTGTCTGATAGCAGC\")"
   ]
  },
  {
   "cell_type": "code",
   "execution_count": 7,
   "metadata": {},
   "outputs": [
    {
     "name": "stdout",
     "output_type": "stream",
     "text": [
      "211 192 230 200 \n"
     ]
    }
   ],
   "source": [
    "# Result:\n",
    "counting_nucleotides(dna)"
   ]
  }
 ],
 "metadata": {
  "kernelspec": {
   "display_name": "Python 3",
   "language": "python",
   "name": "python3"
  },
  "language_info": {
   "codemirror_mode": {
    "name": "ipython",
    "version": 3
   },
   "file_extension": ".py",
   "mimetype": "text/x-python",
   "name": "python",
   "nbconvert_exporter": "python",
   "pygments_lexer": "ipython3",
   "version": "3.9.13"
  }
 },
 "nbformat": 4,
 "nbformat_minor": 2
}
