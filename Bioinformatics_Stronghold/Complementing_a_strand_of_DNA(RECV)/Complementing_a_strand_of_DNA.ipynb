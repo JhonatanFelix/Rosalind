{
 "cells": [
  {
   "cell_type": "code",
   "execution_count": 29,
   "metadata": {},
   "outputs": [],
   "source": [
    "with open('rosalind_revc.txt') as file:\n",
    "    dna = file.readlines()[0]"
   ]
  },
  {
   "cell_type": "code",
   "execution_count": 27,
   "metadata": {},
   "outputs": [],
   "source": [
    "def complementing_dna(sample):\n",
    "    sample = sample.replace('\\n', '')\n",
    "    dict = {'A': 'T', 'C' : 'G' , 'G':'C', 'T': 'A'}\n",
    "    complemented_base = ''\n",
    "    for base in sample:\n",
    "        complemented_base += dict[base]\n",
    "    return complemented_base[::-1]\n"
   ]
  },
  {
   "cell_type": "code",
   "execution_count": 24,
   "metadata": {},
   "outputs": [
    {
     "name": "stdout",
     "output_type": "stream",
     "text": [
      "ACCGGGTTTT\n"
     ]
    }
   ],
   "source": [
    "sample = 'AAAACCCGGT'\n",
    "print(complementing_dna(sample))"
   ]
  },
  {
   "cell_type": "code",
   "execution_count": 31,
   "metadata": {},
   "outputs": [
    {
     "name": "stdout",
     "output_type": "stream",
     "text": [
      "GTGTATTGCCATCTATTGTCCAGTAGCAACTAGTTACAGGGAAGTTGTTAGGACTCCACACCAGTCCACCACTAAGTCAGTCAATTTGAAGGATGAATGTAGAACGAGCGATGACGCCTAGCGCGGCACCTGGAGGGGAGCAATGCCCGGTGCTGTTAAGCCTTAAATATATTCTAGGACCCGCACTGTGCTGCCTCTGCATCGTATTGTAGTTCTGTAGGCCTCCTATCCCAATCTGTCCCTCCCTGGGCAAAGTCATTTGCCTTGTGAGAGTTCTCAGGTTCTTCAGGCCTCGTGCACAATGCCTTGCCAATCTGGATATTGCAGAGGAGACTTTAGGCAAACCTTTATTGCATTGTGCTAACGATTTGAGTATCTCGTTATCTTGATGTAACCCTATTCTGCGGCCCTACTATAGGTAGTACTCTAGTGCGCTACGTTACGTATTCAGGGTCTTCGTTTTATCCAACCCTTGGATCTTTAGGGGTAGGTTCATCACGCAGTACAAGTGTTGGTATAGGTTGTTTACCTGTCATCTCCGTGCCGCGGCGACGCTGCTTGAGAGTTCCTGGTCCCCAAGAGGCGAAATATGCCTCGTGAAAAAGGGATTACCTACTTTCACACGGGTGACGTCACCCCTTTTACTAGAGACACCATGCGGCCTAGTCCTAACCTGTACTTCGGCTAATCAAAGGAAAGACGGAAATCCCACCGGGGGCTATTCTACAAGGGGTGCTTTACACGCCGCGGCAAAACCGTCTGAACCCGGGGACTTGAGTGTTTGAACGGGCTAAATCTGTTGGGCTACCTTACCTGACCTTACTG\n"
     ]
    }
   ],
   "source": [
    "print(complementing_dna(dna))"
   ]
  }
 ],
 "metadata": {
  "kernelspec": {
   "display_name": "Python 3",
   "language": "python",
   "name": "python3"
  },
  "language_info": {
   "codemirror_mode": {
    "name": "ipython",
    "version": 3
   },
   "file_extension": ".py",
   "mimetype": "text/x-python",
   "name": "python",
   "nbconvert_exporter": "python",
   "pygments_lexer": "ipython3",
   "version": "3.9.13"
  }
 },
 "nbformat": 4,
 "nbformat_minor": 2
}
