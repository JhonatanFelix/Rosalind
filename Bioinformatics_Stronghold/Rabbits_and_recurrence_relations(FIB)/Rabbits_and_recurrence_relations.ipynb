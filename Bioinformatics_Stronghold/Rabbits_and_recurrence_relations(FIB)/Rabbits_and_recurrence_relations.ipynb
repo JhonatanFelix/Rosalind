{
 "cells": [
  {
   "cell_type": "code",
   "execution_count": 9,
   "metadata": {},
   "outputs": [
    {
     "data": {
      "text/plain": [
       "'29 5\\n'"
      ]
     },
     "execution_count": 9,
     "metadata": {},
     "output_type": "execute_result"
    }
   ],
   "source": [
    "with open('rosalind_fib.txt') as sample:\n",
    "    generators = sample.readlines()[0]\n",
    "\n",
    "generators\n"
   ]
  },
  {
   "cell_type": "code",
   "execution_count": 10,
   "metadata": {},
   "outputs": [],
   "source": [
    "def processing(sample):\n",
    "    sample = sample.replace('\\n',  '')\n",
    "    return sample.split(' ')\n",
    "\n",
    "def rabbits_pairs(n, k):\n",
    "    prev_month = 1\n",
    "    current_month = 1\n",
    "\n",
    "    for _ in range(2, n):\n",
    "        children = prev_month*k\n",
    "        prev_month, current_month = current_month, current_month + children\n",
    "\n",
    "    return current_month"
   ]
  },
  {
   "cell_type": "code",
   "execution_count": 11,
   "metadata": {},
   "outputs": [
    {
     "data": {
      "text/plain": [
       "19"
      ]
     },
     "execution_count": 11,
     "metadata": {},
     "output_type": "execute_result"
    }
   ],
   "source": [
    "rabbits_pairs(5,3)"
   ]
  },
  {
   "cell_type": "code",
   "execution_count": 13,
   "metadata": {},
   "outputs": [
    {
     "data": {
      "text/plain": [
       "1850229480761"
      ]
     },
     "execution_count": 13,
     "metadata": {},
     "output_type": "execute_result"
    }
   ],
   "source": [
    "rabbits_pairs(int(processing(generators)[0]), int(processing(generators)[1]))"
   ]
  }
 ],
 "metadata": {
  "kernelspec": {
   "display_name": "Python 3",
   "language": "python",
   "name": "python3"
  },
  "language_info": {
   "codemirror_mode": {
    "name": "ipython",
    "version": 3
   },
   "file_extension": ".py",
   "mimetype": "text/x-python",
   "name": "python",
   "nbconvert_exporter": "python",
   "pygments_lexer": "ipython3",
   "version": "3.9.13"
  }
 },
 "nbformat": 4,
 "nbformat_minor": 2
}
