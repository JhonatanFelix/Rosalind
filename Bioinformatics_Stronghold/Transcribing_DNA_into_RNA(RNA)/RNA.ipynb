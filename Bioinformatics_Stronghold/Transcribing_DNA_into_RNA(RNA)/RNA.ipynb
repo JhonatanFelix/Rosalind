{
 "cells": [
  {
   "cell_type": "markdown",
   "metadata": {},
   "source": [
    "### Problem\n",
    "\n",
    "An **RNA string** is a **string** formed from the **alphabet** containing 'A', 'C', 'G', and 'U'.\n",
    "\n",
    "Given a **DNA string** t\n",
    " corresponding to a coding strand, its transcribed **RNA string** u\n",
    " is formed by replacing all occurrences of 'T' in t\n",
    " with 'U' in u.\n",
    "\n",
    "_Given_: A **DNA string** t\n",
    " having **length** at most 1000 nt.\n",
    "\n",
    "_Return_: The transcribed RNA string of t.\n",
    "\n",
    "### Sample Dataset\n",
    "GATGGAACTTGACTACGTAAATT\n",
    "### Sample Output\n",
    "GAUGGAACUUGACUACGUAAAUU"
   ]
  },
  {
   "cell_type": "code",
   "execution_count": 2,
   "metadata": {},
   "outputs": [
    {
     "data": {
      "text/plain": [
       "'GAUGGAACUUGACUACGUAAAUU'"
      ]
     },
     "execution_count": 2,
     "metadata": {},
     "output_type": "execute_result"
    }
   ],
   "source": [
    "with open('rosalind_rna.txt') as file:\n",
    "    DNA = file.readlines()[0]\n",
    "\n",
    "def transcribe(sample):\n",
    "    DNA_transcribed = sample.replace('T', 'U')\n",
    "    return DNA_transcribed\n",
    "\n",
    "Sample_dataset = 'GATGGAACTTGACTACGTAAATT'\n",
    "transcribe(Sample_dataset)"
   ]
  },
  {
   "cell_type": "code",
   "execution_count": 3,
   "metadata": {},
   "outputs": [
    {
     "data": {
      "text/plain": [
       "'GACAUGAAGUUUGCAAGAUGAGAACAGAUAAUGCGAUCGAUGCCAAUACUUAUUAUUCCUUCUUGUUGUUUAAGUGAGGCCACUAGAAAUCGCACUUGCAACAUAGGGCUUCGAUAGGAAACGAUGAUGGUGUACAUCCAACGACUACGCAAUUCCUUAUUUCAAGCGGUUUAAAUUGUGGUAUGGCACUGCCCCUACGCGACAAUCCCUCAAGCUCAUUAGUUAUCGACAUAUCCAGUGACGAAACUGCGGGAUGUCAAAGCAGGCAACUGGGACCCGUUUCGGUACCGCUACAGUGGACCCCUCUCCUUAGUCGACCCUAUCCCACCCGUCACGCGGGUAACAAGGGCUGUCUUAAAUCCCAUCUAGCGUGUAAUUGCACAUCAGGUCCUAUUACUGCAGGUUUGCGUCGUGGGGCGCAAGUGCACAUUCACUAUAAUUCAUUGCUGCGUGGGGAGAUCUGACUGUGGUUUUAGAAAUCCGAGCGACCGUGUAUUCUUAUCGGCCCUUACUAUCAAUCGCCACUCUGCAUUCAGCCUGUCCCCCACGUGCGAAAAGGAAGAUUAGCAUCACGAUGAUACGGUUCACAUAAUAGGACAGUAUAUGGGACGACCGACAGCCGGUCCGAUUAUAGUACGGAUGAGGAAUACUUUACGUUUGGUUAUAAGAGUCAAGUGAGUAUCGAGUCGGAAUCUGGACGAAGGAGCAUUACUCAUAAAGUGAUCAUAUCCUACGUACGCCUUAUAGUUCCGUUAGCUGGUUUACGCUCAGAUGAUUACGGGUAUAAUGUUUUUCAUCCCCAUCCGGGUAGACCUAGAGAGAGUCGACUGACACGAUAAGAGAUCAAAGUACCGCGCAGAGCUGCACACGCCUCUUUUGAUGAUAGUCUUGGACAAAAACGGUGUAUGCCGCACUUAACACCUUUUUAACCAAAGACUCUAGGUCCCGCCAAACCGAAGUUUUGUAAAUGGCAUUGUUAUUAAGAACCG\\n'"
      ]
     },
     "execution_count": 3,
     "metadata": {},
     "output_type": "execute_result"
    }
   ],
   "source": [
    "transcribe(DNA)"
   ]
  }
 ],
 "metadata": {
  "kernelspec": {
   "display_name": "Python 3",
   "language": "python",
   "name": "python3"
  },
  "language_info": {
   "codemirror_mode": {
    "name": "ipython",
    "version": 3
   },
   "file_extension": ".py",
   "mimetype": "text/x-python",
   "name": "python",
   "nbconvert_exporter": "python",
   "pygments_lexer": "ipython3",
   "version": "3.9.13"
  }
 },
 "nbformat": 4,
 "nbformat_minor": 2
}
